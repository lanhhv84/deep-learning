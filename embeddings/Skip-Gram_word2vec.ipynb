{
 "cells": [
  {
   "cell_type": "markdown",
   "metadata": {},
   "source": [
    "# Skip-gram word2vec\n",
    "\n",
    "In this notebook, I'll lead you through using TensorFlow to implement the word2vec algorithm using the skip-gram architecture. By implementing this, you'll learn about embedding words for use in natural language processing. This will come in handy when dealing with things like machine translation.\n",
    "\n",
    "## Readings\n",
    "\n",
    "Here are the resources I used to build this notebook. I suggest reading these either beforehand or while you're working on this material.\n",
    "\n",
    "* A really good [conceptual overview](http://mccormickml.com/2016/04/19/word2vec-tutorial-the-skip-gram-model/) of word2vec from Chris McCormick \n",
    "* [First word2vec paper](https://arxiv.org/pdf/1301.3781.pdf) from Mikolov et al.\n",
    "* [NIPS paper](http://papers.nips.cc/paper/5021-distributed-representations-of-words-and-phrases-and-their-compositionality.pdf) with improvements for word2vec also from Mikolov et al.\n",
    "* An [implementation of word2vec](http://www.thushv.com/natural_language_processing/word2vec-part-1-nlp-with-deep-learning-with-tensorflow-skip-gram/) from Thushan Ganegedara\n",
    "* TensorFlow [word2vec tutorial](https://www.tensorflow.org/tutorials/word2vec)\n",
    "\n",
    "## Word embeddings\n",
    "\n",
    "When you're dealing with words in text, you end up with tens of thousands of classes to predict, one for each word. Trying to one-hot encode these words is massively inefficient, you'll have one element set to 1 and the other 50,000 set to 0. The matrix multiplication going into the first hidden layer will have almost all of the resulting values be zero. This a huge waste of computation. \n",
    "\n",
    "![one-hot encodings](assets/one_hot_encoding.png)\n",
    "\n",
    "To solve this problem and greatly increase the efficiency of our networks, we use what are called embeddings. Embeddings are just a fully connected layer like you've seen before. We call this layer the embedding layer and the weights are embedding weights. We skip the multiplication into the embedding layer by instead directly grabbing the hidden layer values from the weight matrix. We can do this because the multiplication of a one-hot encoded vector with a matrix returns the row of the matrix corresponding the index of the \"on\" input unit.\n",
    "\n",
    "![lookup](assets/lookup_matrix.png)\n",
    "\n",
    "Instead of doing the matrix multiplication, we use the weight matrix as a lookup table. We encode the words as integers, for example \"heart\" is encoded as 958, \"mind\" as 18094. Then to get hidden layer values for \"heart\", you just take the 958th row of the embedding matrix. This process is called an **embedding lookup** and the number of hidden units is the **embedding dimension**.\n",
    "\n",
    "<img src='assets/tokenize_lookup.png' width=500>\n",
    " \n",
    "There is nothing magical going on here. The embedding lookup table is just a weight matrix. The embedding layer is just a hidden layer. The lookup is just a shortcut for the matrix multiplication. The lookup table is trained just like any weight matrix as well.\n",
    "\n",
    "Embeddings aren't only used for words of course. You can use them for any model where you have a massive number of classes. A particular type of model called **Word2Vec** uses the embedding layer to find vector representations of words that contain semantic meaning.\n",
    "\n"
   ]
  },
  {
   "cell_type": "markdown",
   "metadata": {},
   "source": [
    "## Word2Vec\n",
    "\n",
    "The word2vec algorithm finds much more efficient representations by finding vectors that represent the words. These vectors also contain semantic information about the words. Words that show up in similar contexts, such as \"black\", \"white\", and \"red\" will have vectors near each other. There are two architectures for implementing word2vec, CBOW (Continuous Bag-Of-Words) and Skip-gram.\n",
    "\n",
    "<img src=\"assets/word2vec_architectures.png\" width=\"500\">\n",
    "\n",
    "In this implementation, we'll be using the skip-gram architecture because it performs better than CBOW. Here, we pass in a word and try to predict the words surrounding it in the text. In this way, we can train the network to learn representations for words that show up in similar contexts.\n",
    "\n",
    "First up, importing packages."
   ]
  },
  {
   "cell_type": "code",
   "execution_count": null,
   "metadata": {},
   "outputs": [],
   "source": [
    "import time\n",
    "\n",
    "import numpy as np\n",
    "import tensorflow as tf\n",
    "\n",
    "import utils"
   ]
  },
  {
   "cell_type": "markdown",
   "metadata": {},
   "source": [
    "Load the [text8 dataset](http://mattmahoney.net/dc/textdata.html), a file of cleaned up Wikipedia articles from Matt Mahoney. The next cell will download the data set to the `data` folder. Then you can extract it and delete the archive file to save storage space."
   ]
  },
  {
   "cell_type": "code",
   "execution_count": null,
   "metadata": {},
   "outputs": [],
   "source": [
    "from urllib.request import urlretrieve\n",
    "from os.path import isfile, isdir\n",
    "from tqdm import tqdm\n",
    "import zipfile\n",
    "\n",
    "dataset_folder_path = 'data'\n",
    "dataset_filename = 'text8.zip'\n",
    "dataset_name = 'Text8 Dataset'\n",
    "\n",
    "class DLProgress(tqdm):\n",
    "    last_block = 0\n",
    "\n",
    "    def hook(self, block_num=1, block_size=1, total_size=None):\n",
    "        self.total = total_size\n",
    "        self.update((block_num - self.last_block) * block_size)\n",
    "        self.last_block = block_num\n",
    "\n",
    "if not isfile(dataset_filename):\n",
    "    with DLProgress(unit='B', unit_scale=True, miniters=1, desc=dataset_name) as pbar:\n",
    "        urlretrieve(\n",
    "            'http://mattmahoney.net/dc/text8.zip',\n",
    "            dataset_filename,\n",
    "            pbar.hook)\n",
    "\n",
    "if not isdir(dataset_folder_path):\n",
    "    with zipfile.ZipFile(dataset_filename) as zip_ref:\n",
    "        zip_ref.extractall(dataset_folder_path)\n",
    "        \n",
    "with open('data/text8') as f:\n",
    "    text = f.read()"
   ]
  },
  {
   "cell_type": "markdown",
   "metadata": {},
   "source": [
    "## Preprocessing\n",
    "\n",
    "Here I'm fixing up the text to make training easier. This comes from the `utils` module I wrote. The `preprocess` function coverts any punctuation into tokens, so a period is changed to ` <PERIOD> `. In this data set, there aren't any periods, but it will help in other NLP problems. I'm also removing all words that show up five or fewer times in the dataset. This will greatly reduce issues due to noise in the data and improve the quality of the vector representations. If you want to write your own functions for this stuff, go for it."
   ]
  },
  {
   "cell_type": "code",
   "execution_count": null,
   "metadata": {},
   "outputs": [],
   "source": [
    "words = utils.preprocess(text)\n",
    "print(words[:30])"
   ]
  },
  {
   "cell_type": "code",
   "execution_count": null,
   "metadata": {},
   "outputs": [],
   "source": [
    "print(\"Total words: {}\".format(len(words)))\n",
    "print(\"Unique words: {}\".format(len(set(words))))"
   ]
  },
  {
   "cell_type": "markdown",
   "metadata": {},
   "source": [
    "And here I'm creating dictionaries to convert words to integers and backwards, integers to words. The integers are assigned in descending frequency order, so the most frequent word (\"the\") is given the integer 0 and the next most frequent is 1 and so on. The words are converted to integers and stored in the list `int_words`."
   ]
  },
  {
   "cell_type": "code",
   "execution_count": null,
   "metadata": {},
   "outputs": [],
   "source": [
    "vocab_to_int, int_to_vocab = utils.create_lookup_tables(words)\n",
    "int_words = [vocab_to_int[word] for word in words]"
   ]
  },
  {
   "cell_type": "markdown",
   "metadata": {},
   "source": [
    "## Subsampling\n",
    "\n",
    "Words that show up often such as \"the\", \"of\", and \"for\" don't provide much context to the nearby words. If we discard some of them, we can remove some of the noise from our data and in return get faster training and better representations. This process is called subsampling by Mikolov. For each word $w_i$ in the training set, we'll discard it with probability given by \n",
    "\n",
    "$$ P(w_i) = 1 - \\sqrt{\\frac{t}{f(w_i)}} $$\n",
    "\n",
    "where $t$ is a threshold parameter and $f(w_i)$ is the frequency of word $w_i$ in the total dataset.\n",
    "\n",
    "I'm going to leave this up to you as an exercise. This is more of a programming challenge, than about deep learning specifically. But, being able to prepare your data for your network is an important skill to have. Check out my solution to see how I did it.\n",
    "\n",
    "> **Exercise:** Implement subsampling for the words in `int_words`. That is, go through `int_words` and discard each word given the probablility $P(w_i)$ shown above. Note that $P(w_i)$ is the probability that a word is discarded. Assign the subsampled data to `train_words`."
   ]
  },
  {
   "cell_type": "code",
   "execution_count": null,
   "metadata": {},
   "outputs": [],
   "source": [
    "from collections import Counter\n",
    "import math\n",
    "\n",
    "counter = Counter(words)\n",
    "vocab = list(counter.keys())\n",
    "P_vocab = Counter()\n",
    "threshold = 100000\n",
    "\n",
    "for key, val in counter.items():\n",
    "    P_vocab[key] = 1 - math.sqrt(threshold / val)"
   ]
  },
  {
   "cell_type": "code",
   "execution_count": null,
   "metadata": {},
   "outputs": [],
   "source": [
    "train_words = []\n",
    "remove_list = []\n",
    "\n",
    "for key, val in P_vocab.items():\n",
    "    if val > 0:\n",
    "        remove_list.append(key)\n",
    "        \n",
    "        "
   ]
  },
  {
   "cell_type": "code",
   "execution_count": null,
   "metadata": {},
   "outputs": [],
   "source": [
    "train_words = [word for word in words if not word in remove_list]\n",
    "vocab = [word for word in vocab if not word in remove_list]"
   ]
  },
  {
   "cell_type": "code",
   "execution_count": 41,
   "metadata": {},
   "outputs": [],
   "source": [
    "vocab_to_int, int_to_vocab = []\n",
    "int_words = [vocab_to_int[word] for word in words]"
   ]
  },
  {
   "cell_type": "code",
   "execution_count": 42,
   "metadata": {},
   "outputs": [],
   "source": [
    "train_counter = Counter(train_words)\n",
    "vocab_to_int = {word: key for key, (word, count) in enumerate(train_counter.most_common())}\n",
    "int_to_vocab = {key: word for key, (word, count) in enumerate(train_counter.most_common())}"
   ]
  },
  {
   "cell_type": "code",
   "execution_count": 75,
   "metadata": {},
   "outputs": [],
   "source": [
    "train_words = [vocab_to_int[word] for word in train_words]"
   ]
  },
  {
   "cell_type": "markdown",
   "metadata": {},
   "source": [
    "## Making batches"
   ]
  },
  {
   "cell_type": "markdown",
   "metadata": {},
   "source": [
    "Now that our data is in good shape, we need to get it into the proper form to pass it into our network. With the skip-gram architecture, for each word in the text, we want to grab all the words in a window around that word, with size $C$. \n",
    "\n",
    "From [Mikolov et al.](https://arxiv.org/pdf/1301.3781.pdf): \n",
    "\n",
    "\"Since the more distant words are usually less related to the current word than those close to it, we give less weight to the distant words by sampling less from those words in our training examples... If we choose $C = 5$, for each training word we will select randomly a number $R$ in range $< 1; C >$, and then use $R$ words from history and $R$ words from the future of the current word as correct labels.\"\n",
    "\n",
    "> **Exercise:** Implement a function `get_target` that receives a list of words, an index, and a window size, then returns a list of words in the window around the index. Make sure to use the algorithm described above, where you choose a random number of words from the window."
   ]
  },
  {
   "cell_type": "code",
   "execution_count": 39,
   "metadata": {},
   "outputs": [],
   "source": [
    "def get_target(words, idx, window_size=5):\n",
    "    ''' Get a list of words in a window around an index. '''\n",
    "    \n",
    "    # Your code here\n",
    "    target = []\n",
    "    for index in range(idx - window_size, idx + window_size + 1):\n",
    "        if index > 0 and index < len(words) and index != idx:\n",
    "            target.append(words[index])\n",
    "    return target"
   ]
  },
  {
   "cell_type": "markdown",
   "metadata": {},
   "source": [
    "Here's a function that returns batches for our network. The idea is that it grabs `batch_size` words from a words list. Then for each of those words, it gets the target words in the window. I haven't found a way to pass in a random number of target words and get it to work with the architecture, so I make one row per input-target pair. This is a generator function by the way, helps save memory."
   ]
  },
  {
   "cell_type": "code",
   "execution_count": 68,
   "metadata": {},
   "outputs": [],
   "source": [
    "def get_batches(words, batch_size, window_size=5):\n",
    "    ''' Create a generator of word batches as a tuple (inputs, targets) '''\n",
    "    \n",
    "    n_batches = len(words)//batch_size\n",
    "    \n",
    "    # only full batches\n",
    "    words = words[:n_batches*batch_size]\n",
    "    \n",
    "    for idx in range(0, len(words), batch_size):\n",
    "        x, y = [], []\n",
    "        batch = words[idx:idx+batch_size]\n",
    "        for ii in range(len(batch)):\n",
    "            batch_x = batch[ii]\n",
    "            batch_y = get_target(batch, ii, window_size)\n",
    "            y.extend(batch_y)\n",
    "            x.extend([batch_x]*len(batch_y))\n",
    "        yield x, y\n",
    "    "
   ]
  },
  {
   "cell_type": "markdown",
   "metadata": {},
   "source": [
    "## Building the graph\n",
    "\n",
    "From [Chris McCormick's blog](http://mccormickml.com/2016/04/19/word2vec-tutorial-the-skip-gram-model/), we can see the general structure of our network.\n",
    "![embedding_network](./assets/skip_gram_net_arch.png)\n",
    "\n",
    "The input words are passed in as integers. This will go into a hidden layer of linear units, then into a softmax layer. We'll use the softmax layer to make a prediction like normal.\n",
    "\n",
    "The idea here is to train the hidden layer weight matrix to find efficient representations for our words. We can discard the softmax layer becuase we don't really care about making predictions with this network. We just want the embedding matrix so we can use it in other networks we build from the dataset.\n",
    "\n",
    "I'm going to have you build the graph in stages now. First off, creating the `inputs` and `labels` placeholders like normal.\n",
    "\n",
    "> **Exercise:** Assign `inputs` and `labels` using `tf.placeholder`. We're going to be passing in integers, so set the data types to `tf.int32`. The batches we're passing in will have varying sizes, so set the batch sizes to [`None`]. To make things work later, you'll need to set the second dimension of `labels` to `None` or `1`."
   ]
  },
  {
   "cell_type": "code",
   "execution_count": 69,
   "metadata": {},
   "outputs": [],
   "source": [
    "train_graph = tf.Graph()\n",
    "with train_graph.as_default():\n",
    "    inputs = tf.placeholder(tf.int32, shape=(None))\n",
    "    labels = tf.placeholder(tf.float32, shape=(None, None))"
   ]
  },
  {
   "cell_type": "markdown",
   "metadata": {},
   "source": [
    "## Embedding\n",
    "\n"
   ]
  },
  {
   "cell_type": "markdown",
   "metadata": {
    "collapsed": true
   },
   "source": [
    "The embedding matrix has a size of the number of words by the number of units in the hidden layer. So, if you have 10,000 words and 300 hidden units, the matrix will have size $10,000 \\times 300$. Remember that we're using tokenized data for our inputs, usually as integers, where the number of tokens is the number of words in our vocabulary.\n",
    "\n",
    "\n",
    "> **Exercise:** Tensorflow provides a convenient function [`tf.nn.embedding_lookup`](https://www.tensorflow.org/api_docs/python/tf/nn/embedding_lookup) that does this lookup for us. You pass in the embedding matrix and a tensor of integers, then it returns rows in the matrix corresponding to those integers. Below, set the number of embedding features you'll use (200 is a good start), create the embedding matrix variable, and use `tf.nn.embedding_lookup` to get the embedding tensors. For the embedding matrix, I suggest you initialize it with a uniform random numbers between -1 and 1 using [tf.random_uniform](https://www.tensorflow.org/api_docs/python/tf/random_uniform)."
   ]
  },
  {
   "cell_type": "code",
   "execution_count": 70,
   "metadata": {},
   "outputs": [],
   "source": [
    "n_vocab = len(int_to_vocab)\n",
    "n_embedding =  200\n",
    "with train_graph.as_default():\n",
    "    embedding = tf.Variable(tf.random_uniform(shape=(n_vocab, n_embedding)))\n",
    "    embed = tf.nn.embedding_lookup(embedding, inputs)"
   ]
  },
  {
   "cell_type": "markdown",
   "metadata": {},
   "source": [
    "## Negative sampling\n",
    "\n"
   ]
  },
  {
   "cell_type": "markdown",
   "metadata": {},
   "source": [
    "For every example we give the network, we train it using the output from the softmax layer. That means for each input, we're making very small changes to millions of weights even though we only have one true example. This makes training the network very inefficient. We can approximate the loss from the softmax layer by only updating a small subset of all the weights at once. We'll update the weights for the correct label, but only a small number of incorrect labels. This is called [\"negative sampling\"](http://papers.nips.cc/paper/5021-distributed-representations-of-words-and-phrases-and-their-compositionality.pdf). Tensorflow has a convenient function to do this, [`tf.nn.sampled_softmax_loss`](https://www.tensorflow.org/api_docs/python/tf/nn/sampled_softmax_loss).\n",
    "\n",
    "> **Exercise:** Below, create weights and biases for the softmax layer. Then, use [`tf.nn.sampled_softmax_loss`](https://www.tensorflow.org/api_docs/python/tf/nn/sampled_softmax_loss) to calculate the loss. Be sure to read the documentation to figure out how it works."
   ]
  },
  {
   "cell_type": "code",
   "execution_count": 71,
   "metadata": {},
   "outputs": [],
   "source": [
    "# Number of negative labels to sample\n",
    "n_sampled = 100\n",
    "with train_graph.as_default():\n",
    "    softmax_w = tf.Variable(tf.truncated_normal((n_vocab, n_embedding), stddev=0.1))\n",
    "    softmax_b = tf.Variable(tf.zeros(n_vocab))\n",
    "    \n",
    "    # Calculate the loss using negative sampling\n",
    "    loss = tf.nn.sampled_softmax_loss(softmax_w, softmax_b, \n",
    "                                      labels, embed,\n",
    "                                      n_sampled, n_vocab)\n",
    "    \n",
    "    cost = tf.reduce_mean(loss)\n",
    "    optimizer = tf.train.AdamOptimizer().minimize(cost)"
   ]
  },
  {
   "cell_type": "markdown",
   "metadata": {},
   "source": [
    "## Validation\n",
    "\n",
    "This code is from Thushan Ganegedara's implementation. Here we're going to choose a few common words and few uncommon words. Then, we'll print out the closest words to them. It's a nice way to check that our embedding table is grouping together words with similar semantic meanings."
   ]
  },
  {
   "cell_type": "code",
   "execution_count": 72,
   "metadata": {},
   "outputs": [],
   "source": [
    "import random\n",
    "with train_graph.as_default():\n",
    "    ## From Thushan Ganegedara's implementation\n",
    "    valid_size = 16 # Random set of words to evaluate similarity on.\n",
    "    valid_window = 100\n",
    "    # pick 8 samples from (0,100) and (1000,1100) each ranges. lower id implies more frequent \n",
    "    valid_examples = np.array(random.sample(range(valid_window), valid_size//2))\n",
    "    valid_examples = np.append(valid_examples, \n",
    "                               random.sample(range(1000,1000+valid_window), valid_size//2))\n",
    "\n",
    "    valid_dataset = tf.constant(valid_examples, dtype=tf.int32)\n",
    "    \n",
    "    # We use the cosine distance:\n",
    "    norm = tf.sqrt(tf.reduce_sum(tf.square(embedding), 1, keep_dims=True))\n",
    "    normalized_embedding = embedding / norm\n",
    "    valid_embedding = tf.nn.embedding_lookup(normalized_embedding, valid_dataset)\n",
    "    similarity = tf.matmul(valid_embedding, tf.transpose(normalized_embedding))"
   ]
  },
  {
   "cell_type": "code",
   "execution_count": 73,
   "metadata": {},
   "outputs": [
    {
     "name": "stdout",
     "output_type": "stream",
     "text": [
      "mkdir: cannot create directory ‘checkpoints’: File exists\r\n"
     ]
    }
   ],
   "source": [
    "# If the checkpoints directory doesn't exist:\n",
    "!mkdir checkpoints"
   ]
  },
  {
   "cell_type": "markdown",
   "metadata": {},
   "source": [
    "## Training\n",
    "\n",
    "Below is the code to train the network. Every 100 batches it reports the training loss. Every 1000 batches, it'll print out the validation words."
   ]
  },
  {
   "cell_type": "code",
   "execution_count": null,
   "metadata": {},
   "outputs": [
    {
     "name": "stdout",
     "output_type": "stream",
     "text": [
      "Epoch 1/10 Iteration: 100 Avg. Training loss: 6.0290 0.0406 sec/batch\n",
      "Epoch 1/10 Iteration: 200 Avg. Training loss: 5.2135 0.0250 sec/batch\n",
      "Epoch 1/10 Iteration: 300 Avg. Training loss: 5.4496 0.0260 sec/batch\n",
      "Epoch 1/10 Iteration: 400 Avg. Training loss: 5.5231 0.0291 sec/batch\n",
      "Epoch 1/10 Iteration: 500 Avg. Training loss: 5.6269 0.0279 sec/batch\n",
      "Epoch 1/10 Iteration: 600 Avg. Training loss: 5.7341 0.0244 sec/batch\n",
      "Epoch 1/10 Iteration: 700 Avg. Training loss: 5.6472 0.0278 sec/batch\n",
      "Epoch 1/10 Iteration: 800 Avg. Training loss: 5.8283 0.0250 sec/batch\n",
      "Epoch 1/10 Iteration: 900 Avg. Training loss: 5.7063 0.0281 sec/batch\n",
      "Epoch 1/10 Iteration: 1000 Avg. Training loss: 5.7793 0.0285 sec/batch\n",
      "Nearest to will: poulsen, rushdie, adamawa, rapier, denverites, vms, tantra, kt,\n",
      "Nearest to on: jovis, diva, reappear, emotive, bins, flipped, fakes, marathas,\n",
      "Nearest to name: philia, imbued, mated, archery, kaiserliche, ichkeria, maige, prokaryotic,\n",
      "Nearest to after: nguyen, voortrekkers, transmissible, orr, hurry, laf, hominy, subjugating,\n",
      "Nearest to who: cfp, screened, koenigsegg, wolszczan, manos, broome, tintagel, submissive,\n",
      "Nearest to he: absalon, newsstand, robison, sagara, marksmen, safeword, unintentional, reabsorbed,\n",
      "Nearest to more: handily, compressors, maleficarum, fruitarianism, emacs, gabab, bnp, culhwch,\n",
      "Nearest to under: liar, cables, exaltation, mindless, favouring, gunships, ghats, tugs,\n",
      "Nearest to http: junctions, improv, cardio, partitioned, hemmed, arbitrator, subdiscipline, bookmakers,\n",
      "Nearest to pre: ficino, dini, parodies, inaudible, superfluid, vfa, subcarriers, telephoned,\n",
      "Nearest to start: lakoff, redoutable, frau, colloids, kulmbach, decentralization, lud, bertolt,\n",
      "Nearest to older: blanton, myelinolysis, carbonates, renee, husayni, fanatical, taschen, paradoxically,\n",
      "Nearest to troops: internationals, retconned, suffect, cardoso, mongomo, pancake, tley, plied,\n",
      "Nearest to stage: raman, ouen, mulliken, hanford, niobe, zadar, ceti, lonely,\n",
      "Nearest to volume: nster, carlow, dollfu, bala, spitz, grammer, truk, mischief,\n",
      "Nearest to shown: hirobumi, pyrimidine, thursdays, familiarity, caspar, cidade, marriageable, adders,\n",
      "Epoch 1/10 Iteration: 1100 Avg. Training loss: 5.8194 0.0272 sec/batch\n",
      "Epoch 1/10 Iteration: 1200 Avg. Training loss: 5.7919 0.0258 sec/batch\n",
      "Epoch 1/10 Iteration: 1300 Avg. Training loss: 5.8146 0.0275 sec/batch\n",
      "Epoch 1/10 Iteration: 1400 Avg. Training loss: 5.7216 0.0260 sec/batch\n",
      "Epoch 1/10 Iteration: 1500 Avg. Training loss: 5.7938 0.0276 sec/batch\n",
      "Epoch 1/10 Iteration: 1600 Avg. Training loss: 5.6920 0.0252 sec/batch\n",
      "Epoch 1/10 Iteration: 1700 Avg. Training loss: 5.7140 0.0243 sec/batch\n",
      "Epoch 1/10 Iteration: 1800 Avg. Training loss: 5.6908 0.0244 sec/batch\n",
      "Epoch 1/10 Iteration: 1900 Avg. Training loss: 5.6005 0.0264 sec/batch\n",
      "Epoch 1/10 Iteration: 2000 Avg. Training loss: 5.5056 0.0267 sec/batch\n",
      "Nearest to will: poulsen, rushdie, adamawa, connes, waw, tantra, unitar, yaqub,\n",
      "Nearest to on: jovis, atahualpa, diva, flipped, leutze, bins, elf, brainstorming,\n",
      "Nearest to name: philia, protozoa, transiting, jfduke, mated, nicklas, imbued, rickshaw,\n",
      "Nearest to after: hominy, nguyen, morissette, unexplainable, orr, laf, transmissible, louth,\n",
      "Nearest to who: screened, wolszczan, ine, koenigsegg, manos, tintagel, enlist, pineapples,\n",
      "Nearest to he: sagara, robison, absalon, dur, marksmen, newsstand, reabsorbed, safeword,\n",
      "Nearest to more: handily, maleficarum, praising, cajuns, gabab, desperation, emacs, mcfarland,\n",
      "Nearest to under: liar, favouring, mindless, cables, gunships, tugs, ghats, exaltation,\n",
      "Nearest to http: junctions, improv, cardio, terracotta, subdiscipline, partitioned, arbitrator, subsequence,\n",
      "Nearest to pre: ficino, dini, stag, inaudible, superfluid, parodies, eamonn, hiiumaa,\n",
      "Nearest to start: lakoff, redoutable, colloids, kulmbach, hittite, nammu, lud, frau,\n",
      "Nearest to older: blanton, myelinolysis, carbonates, renee, fanatical, husayni, pazzi, taschen,\n",
      "Nearest to troops: internationals, suffect, retconned, pancake, mongomo, plied, achebe, seef,\n",
      "Nearest to stage: ceti, raman, chaplains, proxies, hanford, staggering, zadar, terraced,\n",
      "Nearest to volume: nster, dollfu, spitz, isar, carlow, bala, truk, barbera,\n",
      "Nearest to shown: hirobumi, proteles, gigue, pyrimidine, familiarity, thursdays, caspar, foreshadow,\n",
      "Epoch 1/10 Iteration: 2100 Avg. Training loss: 5.4652 0.0266 sec/batch\n",
      "Epoch 1/10 Iteration: 2200 Avg. Training loss: 5.5402 0.0265 sec/batch\n",
      "Epoch 1/10 Iteration: 2300 Avg. Training loss: 5.6136 0.0244 sec/batch\n",
      "Epoch 1/10 Iteration: 2400 Avg. Training loss: 5.4954 0.0251 sec/batch\n",
      "Epoch 1/10 Iteration: 2500 Avg. Training loss: 5.5012 0.0251 sec/batch\n",
      "Epoch 1/10 Iteration: 2600 Avg. Training loss: 5.5189 0.0263 sec/batch\n",
      "Epoch 1/10 Iteration: 2700 Avg. Training loss: 5.4166 0.0260 sec/batch\n",
      "Epoch 1/10 Iteration: 2800 Avg. Training loss: 5.4805 0.0256 sec/batch\n",
      "Epoch 1/10 Iteration: 2900 Avg. Training loss: 5.3646 0.0248 sec/batch\n",
      "Epoch 1/10 Iteration: 3000 Avg. Training loss: 5.3306 0.0277 sec/batch\n",
      "Nearest to will: waw, nonconformist, poulsen, connes, karaite, scanlon, plucked, zafy,\n",
      "Nearest to on: after, with, from, this, at, time, some, however,\n",
      "Nearest to name: nicklas, transiting, from, jfduke, rickshaw, kla, philia, sobib,\n",
      "Nearest to after: on, while, about, also, early, however, first, with,\n",
      "Nearest to who: with, about, this, have, an, were, but, over,\n",
      "Nearest to he: after, his, dur, sagara, unintentional, robison, reabsorbed, trinitarianism,\n",
      "Nearest to more: rather, but, some, than, less, also, popular, between,\n",
      "Nearest to under: consults, ifor, favouring, marquise, richey, astrophysicist, bsl, karma,\n",
      "Nearest to http: junctions, improv, terracotta, cardio, subsequence, subdiscipline, jolley, arbitrator,\n",
      "Nearest to pre: dini, stag, ficino, subkeys, hiiumaa, inaudible, anoints, antiquark,\n",
      "Nearest to start: redoutable, kulmbach, lakoff, colloids, nammu, monopolize, emanated, hittite,\n",
      "Nearest to older: blanton, renee, myelinolysis, taschen, husayni, irsay, masud, pazzi,\n",
      "Nearest to troops: pancake, suffect, retconned, internationals, mongomo, plied, achebe, bootlegs,\n",
      "Nearest to stage: ceti, proxies, chaplains, metabolically, raman, terraced, centerline, acrylics,\n",
      "Nearest to volume: dollfu, spitz, nster, isar, misheard, fj, carlow, barbera,\n",
      "Nearest to shown: hirobumi, proteles, counteract, pyrimidine, tuong, familiarity, donaghy, gigue,\n",
      "Epoch 1/10 Iteration: 3100 Avg. Training loss: 5.4773 0.0253 sec/batch\n",
      "Epoch 1/10 Iteration: 3200 Avg. Training loss: 5.4295 0.0253 sec/batch\n",
      "Epoch 1/10 Iteration: 3300 Avg. Training loss: 5.4025 0.0267 sec/batch\n",
      "Epoch 1/10 Iteration: 3400 Avg. Training loss: 5.4302 0.0274 sec/batch\n",
      "Epoch 1/10 Iteration: 3500 Avg. Training loss: 5.3569 0.0258 sec/batch\n",
      "Epoch 1/10 Iteration: 3600 Avg. Training loss: 5.3023 0.0290 sec/batch\n",
      "Epoch 1/10 Iteration: 3700 Avg. Training loss: 5.3609 0.0279 sec/batch\n",
      "Epoch 1/10 Iteration: 3800 Avg. Training loss: 5.2300 0.0260 sec/batch\n",
      "Epoch 1/10 Iteration: 3900 Avg. Training loss: 5.2588 0.0247 sec/batch\n",
      "Epoch 1/10 Iteration: 4000 Avg. Training loss: 5.2814 0.0257 sec/batch\n",
      "Nearest to will: but, can, may, form, it, should, with, when,\n",
      "Nearest to on: with, after, from, at, this, while, first, which,\n",
      "Nearest to name: from, which, both, time, each, has, with, there,\n",
      "Nearest to after: on, while, first, early, about, later, he, with,\n",
      "Nearest to who: with, were, this, but, about, over, have, an,\n",
      "Nearest to he: his, after, but, at, with, influence, when, them,\n",
      "Nearest to more: rather, some, less, but, usually, than, this, most,\n",
      "Nearest to under: since, most, few, times, including, although, home, ifor,\n",
      "Nearest to http: junctions, improv, terracotta, subsequence, rubbish, subdiscipline, repulsed, cardio,\n",
      "Nearest to pre: subkeys, dini, stag, garber, hafez, anoints, antiquark, donaghy,\n",
      "Nearest to start: kulmbach, redoutable, colloids, lakoff, monopolize, nammu, lamborghini, merzbau,\n",
      "Nearest to older: taschen, blanton, renee, irsay, myelinolysis, pazzi, masud, disarray,\n",
      "Nearest to troops: pancake, suffect, mongomo, internationals, plied, retconned, bootlegs, norwalk,\n",
      "Nearest to stage: chaplains, proxies, metabolically, virtualization, ceti, acrylics, semicolon, rask,\n",
      "Nearest to volume: dollfu, spitz, isar, escudo, fj, nster, vetted, misheard,\n",
      "Nearest to shown: same, proteles, other, hirobumi, full, donaghy, certain, this,\n"
     ]
    },
    {
     "name": "stdout",
     "output_type": "stream",
     "text": [
      "Epoch 1/10 Iteration: 4100 Avg. Training loss: 5.1536 0.0268 sec/batch\n",
      "Epoch 1/10 Iteration: 4200 Avg. Training loss: 5.2290 0.0242 sec/batch\n",
      "Epoch 1/10 Iteration: 4300 Avg. Training loss: 5.2390 0.0241 sec/batch\n",
      "Epoch 1/10 Iteration: 4400 Avg. Training loss: 5.2446 0.0274 sec/batch\n",
      "Epoch 1/10 Iteration: 4500 Avg. Training loss: 5.1901 0.0257 sec/batch\n",
      "Epoch 1/10 Iteration: 4600 Avg. Training loss: 5.1677 0.0262 sec/batch\n",
      "Epoch 1/10 Iteration: 4700 Avg. Training loss: 5.2062 0.0257 sec/batch\n",
      "Epoch 1/10 Iteration: 4800 Avg. Training loss: 5.0942 0.0251 sec/batch\n",
      "Epoch 1/10 Iteration: 4900 Avg. Training loss: 5.1055 0.0244 sec/batch\n",
      "Epoch 1/10 Iteration: 5000 Avg. Training loss: 5.0319 0.0239 sec/batch\n",
      "Nearest to will: can, but, may, form, should, any, it, when,\n",
      "Nearest to on: with, from, after, at, this, while, first, time,\n",
      "Nearest to name: from, which, both, with, time, also, origin, another,\n",
      "Nearest to after: on, first, later, during, his, he, early, about,\n",
      "Nearest to who: with, were, about, had, but, out, from, when,\n",
      "Nearest to he: his, after, him, moved, himself, later, took, out,\n",
      "Nearest to more: rather, less, some, usually, than, but, other, this,\n",
      "Nearest to under: since, including, few, first, most, times, with, member,\n",
      "Nearest to http: junctions, improv, rubbish, subsequence, subdiscipline, terracotta, repulsed, jolley,\n",
      "Nearest to pre: being, on, other, together, also, refer, subkeys, called,\n",
      "Nearest to start: kulmbach, allow, redoutable, lamborghini, about, than, monopolize, colloids,\n",
      "Nearest to older: addition, other, taschen, irsay, blanton, over, masud, bdf,\n",
      "Nearest to troops: pancake, during, later, suffect, bootlegs, internationals, plied, over,\n",
      "Nearest to stage: an, chaplains, proxies, accepted, acrylics, rask, myoclonus, it,\n",
      "Nearest to volume: dollfu, isar, fj, spitz, escudo, vetted, naaman, misheard,\n",
      "Nearest to shown: same, this, certain, other, there, any, are, called,\n",
      "Epoch 1/10 Iteration: 5100 Avg. Training loss: 5.1301 0.0238 sec/batch\n",
      "Epoch 1/10 Iteration: 5200 Avg. Training loss: 5.1483 0.0233 sec/batch\n",
      "Epoch 1/10 Iteration: 5300 Avg. Training loss: 5.1021 0.0233 sec/batch\n",
      "Epoch 1/10 Iteration: 5400 Avg. Training loss: 5.0574 0.0244 sec/batch\n",
      "Epoch 1/10 Iteration: 5500 Avg. Training loss: 5.0769 0.0238 sec/batch\n",
      "Epoch 1/10 Iteration: 5600 Avg. Training loss: 5.0847 0.0235 sec/batch\n",
      "Epoch 1/10 Iteration: 5700 Avg. Training loss: 5.0253 0.0249 sec/batch\n",
      "Epoch 1/10 Iteration: 5800 Avg. Training loss: 5.0244 0.0231 sec/batch\n",
      "Epoch 1/10 Iteration: 5900 Avg. Training loss: 5.1128 0.0230 sec/batch\n",
      "Epoch 1/10 Iteration: 6000 Avg. Training loss: 5.0229 0.0241 sec/batch\n",
      "Nearest to will: can, may, but, it, any, should, this, be,\n",
      "Nearest to on: with, from, this, after, at, while, which, when,\n",
      "Nearest to name: from, both, names, which, origin, also, with, another,\n",
      "Nearest to after: later, first, on, during, his, he, had, took,\n",
      "Nearest to who: with, but, their, were, had, his, when, about,\n",
      "Nearest to he: his, after, him, himself, died, took, later, told,\n",
      "Nearest to more: rather, less, some, than, other, which, usually, this,\n",
      "Nearest to under: since, first, over, including, few, with, most, established,\n",
      "Nearest to http: junctions, rubbish, improv, subsequence, jolley, repulsed, nadal, dollywood,\n",
      "Nearest to pre: being, other, called, which, on, from, together, an,\n",
      "Nearest to start: shown, with, about, before, allow, this, it, take,\n",
      "Nearest to older: addition, many, still, other, age, over, these, which,\n",
      "Nearest to troops: during, later, ended, over, had, established, became, took,\n",
      "Nearest to stage: an, with, it, first, when, which, on, all,\n",
      "Nearest to volume: isar, escudo, spitz, vetted, j, misheard, naaman, dollfu,\n",
      "Nearest to shown: this, certain, same, other, can, there, any, are,\n",
      "Epoch 1/10 Iteration: 6100 Avg. Training loss: 5.0826 0.0246 sec/batch\n",
      "Epoch 1/10 Iteration: 6200 Avg. Training loss: 4.9630 0.0240 sec/batch\n",
      "Epoch 1/10 Iteration: 6300 Avg. Training loss: 4.9880 0.0245 sec/batch\n",
      "Epoch 1/10 Iteration: 6400 Avg. Training loss: 5.0315 0.0237 sec/batch\n",
      "Epoch 1/10 Iteration: 6500 Avg. Training loss: 4.9741 0.0239 sec/batch\n",
      "Epoch 1/10 Iteration: 6600 Avg. Training loss: 4.9860 0.0241 sec/batch\n",
      "Epoch 1/10 Iteration: 6700 Avg. Training loss: 5.0311 0.0243 sec/batch\n",
      "Epoch 1/10 Iteration: 6800 Avg. Training loss: 5.0127 0.0248 sec/batch\n",
      "Epoch 1/10 Iteration: 6900 Avg. Training loss: 4.9197 0.0237 sec/batch\n",
      "Epoch 1/10 Iteration: 7000 Avg. Training loss: 4.9308 0.0241 sec/batch\n",
      "Nearest to will: can, any, must, it, may, should, this, so,\n",
      "Nearest to on: from, with, after, first, at, this, an, while,\n",
      "Nearest to name: from, names, also, origin, which, with, both, modern,\n",
      "Nearest to after: later, during, before, on, first, had, became, took,\n",
      "Nearest to who: but, had, his, with, were, before, their, while,\n",
      "Nearest to he: his, him, after, himself, died, took, later, father,\n",
      "Nearest to more: rather, less, some, than, other, much, which, these,\n",
      "Nearest to under: over, established, since, with, following, first, became, part,\n",
      "Nearest to http: org, www, external, links, com, rubbish, junctions, htm,\n",
      "Nearest to pre: being, other, called, from, refer, known, which, often,\n",
      "Nearest to start: shown, before, this, with, take, it, about, allow,\n",
      "Nearest to older: addition, still, age, many, these, most, other, some,\n",
      "Nearest to troops: during, later, took, established, became, ended, had, after,\n",
      "Nearest to stage: an, first, it, this, with, when, still, which,\n",
      "Nearest to volume: j, conversely, escudo, vetted, books, book, dollfu, spitz,\n",
      "Nearest to shown: can, this, certain, called, same, there, are, other,\n",
      "Epoch 1/10 Iteration: 7100 Avg. Training loss: 4.9419 0.0242 sec/batch\n",
      "Epoch 1/10 Iteration: 7200 Avg. Training loss: 4.9525 0.0243 sec/batch\n",
      "Epoch 1/10 Iteration: 7300 Avg. Training loss: 4.9875 0.0247 sec/batch\n",
      "Epoch 1/10 Iteration: 7400 Avg. Training loss: 4.8933 0.0244 sec/batch\n",
      "Epoch 1/10 Iteration: 7500 Avg. Training loss: 4.8928 0.0251 sec/batch\n",
      "Epoch 1/10 Iteration: 7600 Avg. Training loss: 4.9570 0.0248 sec/batch\n",
      "Epoch 1/10 Iteration: 7700 Avg. Training loss: 4.8149 0.0252 sec/batch\n",
      "Epoch 1/10 Iteration: 7800 Avg. Training loss: 4.8118 0.0254 sec/batch\n",
      "Epoch 1/10 Iteration: 7900 Avg. Training loss: 4.8746 0.0241 sec/batch\n",
      "Epoch 1/10 Iteration: 8000 Avg. Training loss: 4.8400 0.0252 sec/batch\n",
      "Nearest to will: can, must, any, it, this, may, should, so,\n",
      "Nearest to on: with, from, which, an, this, first, while, up,\n",
      "Nearest to name: from, origin, names, also, translation, book, greek, modern,\n",
      "Nearest to after: later, before, during, had, first, became, took, until,\n",
      "Nearest to who: them, had, their, but, his, before, were, while,\n",
      "Nearest to he: his, him, himself, after, died, father, later, took,\n",
      "Nearest to more: less, rather, other, some, than, much, most, which,\n",
      "Nearest to under: over, established, following, member, since, after, with, part,\n",
      "Nearest to http: org, www, com, external, links, online, htm, site,\n",
      "Nearest to pre: from, other, known, being, called, refer, during, widely,\n",
      "Nearest to start: before, up, it, shown, with, another, take, time,\n",
      "Nearest to older: age, still, many, most, addition, these, years, much,\n",
      "Nearest to troops: during, ended, took, became, treaty, established, had, after,\n",
      "Nearest to stage: first, an, it, when, had, with, before, being,\n",
      "Nearest to volume: j, conversely, book, books, created, an, seven, escudo,\n",
      "Nearest to shown: can, this, called, same, there, another, other, are,\n",
      "Epoch 1/10 Iteration: 8100 Avg. Training loss: 4.7996 0.0255 sec/batch\n",
      "Epoch 1/10 Iteration: 8200 Avg. Training loss: 4.8339 0.0251 sec/batch\n",
      "Epoch 1/10 Iteration: 8300 Avg. Training loss: 4.7910 0.0235 sec/batch\n",
      "Epoch 1/10 Iteration: 8400 Avg. Training loss: 4.7418 0.0241 sec/batch\n",
      "Epoch 1/10 Iteration: 8500 Avg. Training loss: 4.6796 0.0248 sec/batch\n",
      "Epoch 1/10 Iteration: 8600 Avg. Training loss: 4.7049 0.0241 sec/batch\n",
      "Epoch 1/10 Iteration: 8700 Avg. Training loss: 4.7716 0.0257 sec/batch\n",
      "Epoch 1/10 Iteration: 8800 Avg. Training loss: 4.8041 0.0248 sec/batch\n",
      "Epoch 1/10 Iteration: 8900 Avg. Training loss: 4.8177 0.0259 sec/batch\n",
      "Epoch 1/10 Iteration: 9000 Avg. Training loss: 4.9192 0.0251 sec/batch\n",
      "Nearest to will: can, must, might, any, it, should, so, if,\n",
      "Nearest to on: with, this, from, an, after, first, which, up,\n",
      "Nearest to name: from, names, translation, origin, also, book, another, modern,\n",
      "Nearest to after: later, before, during, first, while, had, with, he,\n",
      "Nearest to who: their, his, them, but, while, had, with, before,\n",
      "Nearest to he: his, him, after, himself, later, when, work, took,\n",
      "Nearest to more: less, rather, much, other, than, some, most, which,\n",
      "Nearest to under: over, following, established, both, since, only, which, with,\n",
      "Nearest to http: org, www, com, external, links, site, online, htm,\n",
      "Nearest to pre: other, from, refer, known, ancient, widely, part, being,\n",
      "Nearest to start: before, up, time, black, shown, with, another, sold,\n",
      "Nearest to older: age, still, years, many, much, most, addition, these,\n",
      "Nearest to troops: during, forces, ended, treaty, war, army, battle, led,\n",
      "Nearest to stage: first, an, with, play, when, before, on, had,\n",
      "Nearest to volume: j, book, books, collection, seven, created, stories, conversely,\n",
      "Nearest to shown: can, called, same, there, negative, full, another, are,\n"
     ]
    },
    {
     "name": "stdout",
     "output_type": "stream",
     "text": [
      "Epoch 1/10 Iteration: 9100 Avg. Training loss: 4.9612 0.0237 sec/batch\n",
      "Epoch 1/10 Iteration: 9200 Avg. Training loss: 4.8363 0.0234 sec/batch\n",
      "Epoch 1/10 Iteration: 9300 Avg. Training loss: 4.7965 0.0236 sec/batch\n",
      "Epoch 1/10 Iteration: 9400 Avg. Training loss: 4.7073 0.0240 sec/batch\n",
      "Epoch 1/10 Iteration: 9500 Avg. Training loss: 4.8396 0.0236 sec/batch\n",
      "Epoch 1/10 Iteration: 9600 Avg. Training loss: 4.8306 0.0234 sec/batch\n",
      "Epoch 1/10 Iteration: 9700 Avg. Training loss: 4.8392 0.0237 sec/batch\n",
      "Epoch 1/10 Iteration: 9800 Avg. Training loss: 4.8155 0.0231 sec/batch\n",
      "Epoch 1/10 Iteration: 9900 Avg. Training loss: 4.7802 0.0242 sec/batch\n",
      "Epoch 1/10 Iteration: 10000 Avg. Training loss: 4.7631 0.0237 sec/batch\n",
      "Nearest to will: can, must, may, any, would, so, this, it,\n",
      "Nearest to on: with, an, from, which, this, up, first, all,\n",
      "Nearest to name: from, names, origin, word, translation, meaning, greek, also,\n",
      "Nearest to after: later, before, during, had, when, first, while, his,\n",
      "Nearest to who: his, them, while, their, had, but, they, those,\n",
      "Nearest to he: his, him, himself, after, later, had, father, went,\n",
      "Nearest to more: less, rather, much, other, than, some, most, which,\n",
      "Nearest to under: over, following, established, power, within, only, both, control,\n",
      "Nearest to http: org, www, com, links, external, htm, online, site,\n",
      "Nearest to pre: other, ancient, known, widely, from, refer, non, called,\n",
      "Nearest to start: before, up, time, another, shown, with, after, take,\n",
      "Nearest to older: age, years, males, household, still, population, many, over,\n",
      "Nearest to troops: forces, army, treaty, during, ended, war, battle, defeat,\n",
      "Nearest to stage: first, songs, play, before, an, had, made, with,\n",
      "Nearest to volume: j, book, collection, books, references, created, conversely, seven,\n",
      "Nearest to shown: can, called, another, same, like, this, there, negative,\n",
      "Epoch 1/10 Iteration: 10100 Avg. Training loss: 4.5254 0.0245 sec/batch\n",
      "Epoch 1/10 Iteration: 10200 Avg. Training loss: 4.7707 0.0232 sec/batch\n",
      "Epoch 1/10 Iteration: 10300 Avg. Training loss: 4.7367 0.0241 sec/batch\n",
      "Epoch 1/10 Iteration: 10400 Avg. Training loss: 4.6346 0.0239 sec/batch\n",
      "Epoch 1/10 Iteration: 10500 Avg. Training loss: 4.8054 0.0254 sec/batch\n",
      "Epoch 1/10 Iteration: 10600 Avg. Training loss: 4.8154 0.0244 sec/batch\n",
      "Epoch 1/10 Iteration: 10700 Avg. Training loss: 4.6686 0.0253 sec/batch\n",
      "Epoch 1/10 Iteration: 10800 Avg. Training loss: 4.7561 0.0259 sec/batch\n",
      "Epoch 1/10 Iteration: 10900 Avg. Training loss: 4.7461 0.0243 sec/batch\n",
      "Epoch 1/10 Iteration: 11000 Avg. Training loss: 4.8166 0.0252 sec/batch\n",
      "Nearest to will: can, must, would, any, could, if, might, should,\n",
      "Nearest to on: with, an, this, from, which, first, all, only,\n",
      "Nearest to name: from, names, origin, word, meaning, greek, known, also,\n",
      "Nearest to after: before, later, during, when, first, had, continued, with,\n",
      "Nearest to who: his, them, had, while, their, but, those, they,\n",
      "Nearest to he: his, him, himself, after, had, later, who, father,\n",
      "Nearest to more: less, rather, much, other, than, some, better, such,\n",
      "Nearest to under: over, following, after, with, only, power, rule, established,\n",
      "Nearest to http: org, www, com, links, external, html, htm, online,\n",
      "Nearest to pre: widely, ancient, refer, other, known, modern, often, common,\n",
      "Nearest to start: before, up, time, end, when, after, with, another,\n",
      "Nearest to older: age, much, many, females, years, males, few, most,\n",
      "Nearest to troops: forces, army, war, battle, ended, invasion, treaty, killed,\n",
      "Nearest to stage: songs, first, play, with, made, had, appeared, an,\n",
      "Nearest to volume: j, collection, books, book, references, published, created, edition,\n",
      "Nearest to shown: can, called, same, another, this, like, some, negative,\n",
      "Epoch 2/10 Iteration: 11100 Avg. Training loss: 4.7843 0.0199 sec/batch\n",
      "Epoch 2/10 Iteration: 11200 Avg. Training loss: 4.8339 0.0247 sec/batch\n",
      "Epoch 2/10 Iteration: 11300 Avg. Training loss: 4.7440 0.0255 sec/batch\n",
      "Epoch 2/10 Iteration: 11400 Avg. Training loss: 4.7124 0.0254 sec/batch\n",
      "Epoch 2/10 Iteration: 11500 Avg. Training loss: 4.6966 0.0258 sec/batch\n",
      "Epoch 2/10 Iteration: 11600 Avg. Training loss: 4.7336 0.0248 sec/batch\n",
      "Epoch 2/10 Iteration: 11700 Avg. Training loss: 4.6269 0.0254 sec/batch\n",
      "Epoch 2/10 Iteration: 11800 Avg. Training loss: 4.6281 0.0255 sec/batch\n",
      "Epoch 2/10 Iteration: 11900 Avg. Training loss: 4.7210 0.0243 sec/batch\n",
      "Epoch 2/10 Iteration: 12000 Avg. Training loss: 4.6756 0.0250 sec/batch\n",
      "Nearest to will: can, must, would, should, could, any, if, might,\n",
      "Nearest to on: this, with, from, an, which, while, first, all,\n",
      "Nearest to name: from, names, origin, word, greek, meaning, derived, comes,\n",
      "Nearest to after: before, later, during, when, first, had, with, his,\n",
      "Nearest to who: them, while, his, their, but, those, had, they,\n",
      "Nearest to he: his, him, himself, after, later, had, who, but,\n",
      "Nearest to more: less, rather, much, than, other, some, however, even,\n",
      "Nearest to under: over, after, with, only, following, which, rule, later,\n",
      "Nearest to http: org, www, com, htm, html, links, external, online,\n",
      "Nearest to pre: widely, ancient, known, often, other, refer, modern, during,\n",
      "Nearest to start: before, end, up, final, after, first, back, when,\n",
      "Nearest to older: age, males, females, years, median, population, household, hundred,\n",
      "Nearest to troops: forces, army, battle, ended, invasion, war, invaded, during,\n",
      "Nearest to stage: first, songs, play, up, time, instead, off, before,\n",
      "Nearest to volume: j, published, ed, edition, collection, book, introduction, books,\n",
      "Nearest to shown: can, called, some, this, fact, same, very, like,\n",
      "Epoch 2/10 Iteration: 12100 Avg. Training loss: 4.7116 0.0260 sec/batch\n",
      "Epoch 2/10 Iteration: 12200 Avg. Training loss: 4.7168 0.0251 sec/batch\n",
      "Epoch 2/10 Iteration: 12300 Avg. Training loss: 4.6934 0.0247 sec/batch\n",
      "Epoch 2/10 Iteration: 12400 Avg. Training loss: 4.6942 0.0252 sec/batch\n",
      "Epoch 2/10 Iteration: 12500 Avg. Training loss: 4.6737 0.0239 sec/batch\n",
      "Epoch 2/10 Iteration: 12600 Avg. Training loss: 4.5986 0.0237 sec/batch\n",
      "Epoch 2/10 Iteration: 12700 Avg. Training loss: 4.5983 0.0231 sec/batch\n",
      "Epoch 2/10 Iteration: 12800 Avg. Training loss: 4.6408 0.0239 sec/batch\n",
      "Epoch 2/10 Iteration: 12900 Avg. Training loss: 4.7138 0.0248 sec/batch\n",
      "Epoch 2/10 Iteration: 13000 Avg. Training loss: 4.6605 0.0244 sec/batch\n",
      "Nearest to will: can, must, would, should, could, any, out, might,\n",
      "Nearest to on: with, an, this, from, which, while, after, all,\n",
      "Nearest to name: from, names, word, comes, meaning, origin, derived, greek,\n",
      "Nearest to after: before, later, during, when, first, had, with, while,\n",
      "Nearest to who: while, their, them, those, they, his, had, but,\n",
      "Nearest to he: his, him, himself, after, later, had, time, returned,\n",
      "Nearest to more: less, rather, much, than, other, while, better, even,\n",
      "Nearest to under: over, after, with, which, rule, established, only, following,\n",
      "Nearest to http: org, www, com, htm, html, links, online, external,\n",
      "Nearest to pre: during, widely, modern, ancient, known, greek, being, often,\n",
      "Nearest to start: before, up, after, end, when, final, take, back,\n",
      "Nearest to older: age, females, median, males, years, household, size, population,\n",
      "Nearest to troops: forces, army, battle, invasion, ended, during, war, allied,\n",
      "Nearest to stage: first, before, off, an, time, up, made, with,\n",
      "Nearest to volume: j, published, collection, ed, edition, introduction, work, further,\n",
      "Nearest to shown: can, some, this, fact, but, very, called, while,\n",
      "Epoch 2/10 Iteration: 13100 Avg. Training loss: 4.6302 0.0252 sec/batch\n",
      "Epoch 2/10 Iteration: 13200 Avg. Training loss: 4.6584 0.0244 sec/batch\n",
      "Epoch 2/10 Iteration: 13300 Avg. Training loss: 4.6747 0.0241 sec/batch\n",
      "Epoch 2/10 Iteration: 13400 Avg. Training loss: 4.6636 0.0230 sec/batch\n",
      "Epoch 2/10 Iteration: 13500 Avg. Training loss: 4.6226 0.0232 sec/batch\n",
      "Epoch 2/10 Iteration: 13600 Avg. Training loss: 4.6365 0.0234 sec/batch\n",
      "Epoch 2/10 Iteration: 13700 Avg. Training loss: 4.4869 0.0234 sec/batch\n",
      "Epoch 2/10 Iteration: 13800 Avg. Training loss: 4.5236 0.0255 sec/batch\n",
      "Epoch 2/10 Iteration: 13900 Avg. Training loss: 4.6333 0.0244 sec/batch\n",
      "Epoch 2/10 Iteration: 14000 Avg. Training loss: 4.5587 0.0249 sec/batch\n",
      "Nearest to will: can, must, would, should, any, may, could, might,\n",
      "Nearest to on: from, with, an, which, this, while, after, also,\n",
      "Nearest to name: names, from, word, meaning, comes, origin, derived, named,\n",
      "Nearest to after: before, later, when, during, first, had, until, while,\n",
      "Nearest to who: their, those, while, them, they, but, his, some,\n",
      "Nearest to he: his, him, himself, later, after, had, went, father,\n",
      "Nearest to more: less, rather, much, other, than, while, some, however,\n",
      "Nearest to under: over, with, after, rule, power, which, control, established,\n",
      "Nearest to http: org, www, com, htm, html, edu, links, online,\n",
      "Nearest to pre: during, modern, widely, ancient, refer, greek, known, first,\n",
      "Nearest to start: before, up, end, back, final, after, time, when,\n",
      "Nearest to older: age, females, median, males, size, years, household, families,\n",
      "Nearest to troops: forces, army, allied, ended, invasion, soldiers, battle, war,\n",
      "Nearest to stage: before, off, first, songs, appeared, time, when, play,\n",
      "Nearest to volume: j, edition, published, ed, collection, introduction, references, book,\n",
      "Nearest to shown: some, fact, this, while, can, although, but, said,\n"
     ]
    },
    {
     "name": "stdout",
     "output_type": "stream",
     "text": [
      "Epoch 2/10 Iteration: 14100 Avg. Training loss: 4.5596 0.0245 sec/batch\n",
      "Epoch 2/10 Iteration: 14200 Avg. Training loss: 4.5747 0.0234 sec/batch\n",
      "Epoch 2/10 Iteration: 14300 Avg. Training loss: 4.5937 0.0241 sec/batch\n",
      "Epoch 2/10 Iteration: 14400 Avg. Training loss: 4.6475 0.0233 sec/batch\n",
      "Epoch 2/10 Iteration: 14500 Avg. Training loss: 4.6802 0.0237 sec/batch\n",
      "Epoch 2/10 Iteration: 14600 Avg. Training loss: 4.6323 0.0246 sec/batch\n"
     ]
    }
   ],
   "source": [
    "epochs = 10\n",
    "batch_size = 1000\n",
    "window_size = 10\n",
    "\n",
    "with train_graph.as_default():\n",
    "    saver = tf.train.Saver()\n",
    "\n",
    "with tf.Session(graph=train_graph) as sess:\n",
    "    iteration = 1\n",
    "    loss = 0\n",
    "    sess.run(tf.global_variables_initializer())\n",
    "\n",
    "    for e in range(1, epochs+1):\n",
    "        batches = get_batches(train_words, batch_size, window_size)\n",
    "        start = time.time()\n",
    "        for x, y in batches:\n",
    "            \n",
    "            feed = {inputs: x,\n",
    "                    labels: np.array(y)[:, None]}\n",
    "            train_loss, _ = sess.run([cost, optimizer], feed_dict=feed)\n",
    "            \n",
    "            loss += train_loss\n",
    "            \n",
    "            if iteration % 100 == 0: \n",
    "                end = time.time()\n",
    "                print(\"Epoch {}/{}\".format(e, epochs),\n",
    "                      \"Iteration: {}\".format(iteration),\n",
    "                      \"Avg. Training loss: {:.4f}\".format(loss/100),\n",
    "                      \"{:.4f} sec/batch\".format((end-start)/100))\n",
    "                loss = 0\n",
    "                start = time.time()\n",
    "            \n",
    "            if iteration % 1000 == 0:\n",
    "                ## From Thushan Ganegedara's implementation\n",
    "                # note that this is expensive (~20% slowdown if computed every 500 steps)\n",
    "                sim = similarity.eval()\n",
    "                for i in range(valid_size):\n",
    "                    valid_word = int_to_vocab[valid_examples[i]]\n",
    "                    top_k = 8 # number of nearest neighbors\n",
    "                    nearest = (-sim[i, :]).argsort()[1:top_k+1]\n",
    "                    log = 'Nearest to %s:' % valid_word\n",
    "                    for k in range(top_k):\n",
    "                        close_word = int_to_vocab[nearest[k]]\n",
    "                        log = '%s %s,' % (log, close_word)\n",
    "                    print(log)\n",
    "            \n",
    "            iteration += 1\n",
    "    save_path = saver.save(sess, \"checkpoints/text8.ckpt\")\n",
    "    embed_mat = sess.run(normalized_embedding)"
   ]
  },
  {
   "cell_type": "markdown",
   "metadata": {},
   "source": [
    "Restore the trained network if you need to:"
   ]
  },
  {
   "cell_type": "code",
   "execution_count": null,
   "metadata": {},
   "outputs": [],
   "source": [
    "with train_graph.as_default():\n",
    "    saver = tf.train.Saver()\n",
    "\n",
    "with tf.Session(graph=train_graph) as sess:\n",
    "    saver.restore(sess, tf.train.latest_checkpoint('checkpoints'))\n",
    "    embed_mat = sess.run(embedding)"
   ]
  },
  {
   "cell_type": "markdown",
   "metadata": {},
   "source": [
    "## Visualizing the word vectors\n",
    "\n",
    "Below we'll use T-SNE to visualize how our high-dimensional word vectors cluster together. T-SNE is used to project these vectors into two dimensions while preserving local stucture. Check out [this post from Christopher Olah](http://colah.github.io/posts/2014-10-Visualizing-MNIST/) to learn more about T-SNE and other ways to visualize high-dimensional data."
   ]
  },
  {
   "cell_type": "code",
   "execution_count": null,
   "metadata": {},
   "outputs": [],
   "source": [
    "%matplotlib inline\n",
    "%config InlineBackend.figure_format = 'retina'\n",
    "\n",
    "import matplotlib.pyplot as plt\n",
    "from sklearn.manifold import TSNE"
   ]
  },
  {
   "cell_type": "code",
   "execution_count": null,
   "metadata": {},
   "outputs": [],
   "source": [
    "viz_words = 500\n",
    "tsne = TSNE()\n",
    "embed_tsne = tsne.fit_transform(embed_mat[:viz_words, :])"
   ]
  },
  {
   "cell_type": "code",
   "execution_count": null,
   "metadata": {},
   "outputs": [],
   "source": [
    "fig, ax = plt.subplots(figsize=(14, 14))\n",
    "for idx in range(viz_words):\n",
    "    plt.scatter(*embed_tsne[idx, :], color='steelblue')\n",
    "    plt.annotate(int_to_vocab[idx], (embed_tsne[idx, 0], embed_tsne[idx, 1]), alpha=0.7)"
   ]
  },
  {
   "cell_type": "code",
   "execution_count": null,
   "metadata": {},
   "outputs": [],
   "source": []
  },
  {
   "cell_type": "code",
   "execution_count": null,
   "metadata": {},
   "outputs": [],
   "source": []
  }
 ],
 "metadata": {
  "kernelspec": {
   "display_name": "Python 3",
   "language": "python",
   "name": "python3"
  },
  "language_info": {
   "codemirror_mode": {
    "name": "ipython",
    "version": 3
   },
   "file_extension": ".py",
   "mimetype": "text/x-python",
   "name": "python",
   "nbconvert_exporter": "python",
   "pygments_lexer": "ipython3",
   "version": "3.7.3"
  }
 },
 "nbformat": 4,
 "nbformat_minor": 2
}
