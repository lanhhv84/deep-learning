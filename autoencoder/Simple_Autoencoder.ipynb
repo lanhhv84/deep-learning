{
 "cells": [
  {
   "cell_type": "markdown",
   "metadata": {},
   "source": [
    "# A Simple Autoencoder\n",
    "\n",
    "We'll start off by building a simple autoencoder to compress the MNIST dataset. With autoencoders, we pass input data through an encoder that makes a compressed representation of the input. Then, this representation is passed through a decoder to reconstruct the input data. Generally the encoder and decoder will be built with neural networks, then trained on example data.\n",
    "\n",
    "![Autoencoder](assets/autoencoder_1.png)\n",
    "\n",
    "In this notebook, we'll be build a simple network architecture for the encoder and decoder. Let's get started by importing our libraries and getting the dataset."
   ]
  },
  {
   "cell_type": "code",
   "execution_count": 1,
   "metadata": {},
   "outputs": [],
   "source": [
    "%matplotlib inline\n",
    "\n",
    "import numpy as np\n",
    "import tensorflow as tf\n",
    "import matplotlib.pyplot as plt"
   ]
  },
  {
   "cell_type": "code",
   "execution_count": 2,
   "metadata": {},
   "outputs": [
    {
     "name": "stdout",
     "output_type": "stream",
     "text": [
      "WARNING:tensorflow:From <ipython-input-2-8c515496db61>:2: read_data_sets (from tensorflow.contrib.learn.python.learn.datasets.mnist) is deprecated and will be removed in a future version.\n",
      "Instructions for updating:\n",
      "Please use alternatives such as official/mnist/dataset.py from tensorflow/models.\n",
      "WARNING:tensorflow:From /home/hvlpr/anaconda3/lib/python3.7/site-packages/tensorflow/contrib/learn/python/learn/datasets/mnist.py:260: maybe_download (from tensorflow.contrib.learn.python.learn.datasets.base) is deprecated and will be removed in a future version.\n",
      "Instructions for updating:\n",
      "Please write your own downloading logic.\n",
      "WARNING:tensorflow:From /home/hvlpr/anaconda3/lib/python3.7/site-packages/tensorflow/contrib/learn/python/learn/datasets/mnist.py:262: extract_images (from tensorflow.contrib.learn.python.learn.datasets.mnist) is deprecated and will be removed in a future version.\n",
      "Instructions for updating:\n",
      "Please use tf.data to implement this functionality.\n",
      "Extracting MNIST_data/train-images-idx3-ubyte.gz\n",
      "WARNING:tensorflow:From /home/hvlpr/anaconda3/lib/python3.7/site-packages/tensorflow/contrib/learn/python/learn/datasets/mnist.py:267: extract_labels (from tensorflow.contrib.learn.python.learn.datasets.mnist) is deprecated and will be removed in a future version.\n",
      "Instructions for updating:\n",
      "Please use tf.data to implement this functionality.\n",
      "Extracting MNIST_data/train-labels-idx1-ubyte.gz\n",
      "Extracting MNIST_data/t10k-images-idx3-ubyte.gz\n",
      "Extracting MNIST_data/t10k-labels-idx1-ubyte.gz\n",
      "WARNING:tensorflow:From /home/hvlpr/anaconda3/lib/python3.7/site-packages/tensorflow/contrib/learn/python/learn/datasets/mnist.py:290: DataSet.__init__ (from tensorflow.contrib.learn.python.learn.datasets.mnist) is deprecated and will be removed in a future version.\n",
      "Instructions for updating:\n",
      "Please use alternatives such as official/mnist/dataset.py from tensorflow/models.\n"
     ]
    }
   ],
   "source": [
    "from tensorflow.examples.tutorials.mnist import input_data\n",
    "mnist = input_data.read_data_sets('MNIST_data', validation_size=0)"
   ]
  },
  {
   "cell_type": "markdown",
   "metadata": {},
   "source": [
    "Below I'm plotting an example image from the MNIST dataset. These are 28x28 grayscale images of handwritten digits."
   ]
  },
  {
   "cell_type": "code",
   "execution_count": 3,
   "metadata": {},
   "outputs": [
    {
     "data": {
      "text/plain": [
       "<matplotlib.image.AxesImage at 0x7f8a77b16c88>"
      ]
     },
     "execution_count": 3,
     "metadata": {},
     "output_type": "execute_result"
    },
    {
     "data": {
      "image/png": "[encoded data removed]",
      "text/plain": [
       "<Figure size 432x288 with 1 Axes>"
      ]
     },
     "metadata": {
      "needs_background": "light"
     },
     "output_type": "display_data"
    }
   ],
   "source": [
    "img = mnist.train.images[2]\n",
    "plt.imshow(img.reshape((28, 28)), cmap='Greys_r')"
   ]
  },
  {
   "cell_type": "markdown",
   "metadata": {},
   "source": [
    "We'll train an autoencoder with these images by flattening them into 784 length vectors. The images from this dataset are already normalized such that the values are between 0 and 1. Let's start by building basically the simplest autoencoder with a **single ReLU hidden layer**. This layer will be used as the compressed representation. Then, the encoder is the input layer and the hidden layer. The decoder is the hidden layer and the output layer. Since the images are normalized between 0 and 1, we need to use a **sigmoid activation on the output layer** to get values matching the input.\n",
    "\n",
    "![Autoencoder architecture](assets/simple_autoencoder.png)\n",
    "\n",
    "\n",
    "> **Exercise:** Build the graph for the autoencoder in the cell below. The input images will be flattened into 784 length vectors. The targets are the same as the inputs. And there should be one hidden layer with a ReLU activation and an output layer with a sigmoid activation. Feel free to use TensorFlow's higher level API, `tf.layers`. For instance, you would use [`tf.layers.dense(inputs, units, activation=tf.nn.relu)`](https://www.tensorflow.org/api_docs/python/tf/layers/dense) to create a fully connected layer with a ReLU activation. The loss should be calculated with the cross-entropy loss, there is a convenient TensorFlow function for this `tf.nn.sigmoid_cross_entropy_with_logits` ([documentation](https://www.tensorflow.org/api_docs/python/tf/nn/sigmoid_cross_entropy_with_logits)). You should note that `tf.nn.sigmoid_cross_entropy_with_logits` takes the logits, but to get the reconstructed images you'll need to pass the logits through the sigmoid function."
   ]
  },
  {
   "cell_type": "code",
   "execution_count": 28,
   "metadata": {},
   "outputs": [],
   "source": [
    "# Size of the encoding layer (the hidden layer)\n",
    "encoding_dim = 256 # feel free to change this value\n",
    "\n",
    "# Input and target placeholders\n",
    "inputs_ = tf.placeholder(dtype=tf.float32, shape=(None, 784))\n",
    "targets_ = tf.placeholder(dtype=tf.float32, shape=(None, 784))\n",
    "\n",
    "# Output of hidden layer, single fully connected layer here with ReLU activation\n",
    "encoded = tf.layers.dense(inputs=inputs_, units=encoding_dim, activation=tf.nn.relu, kernel_initializer=tf.initializers.truncated_normal)\n",
    "\n",
    "# Output layer logits, fully connected layer with no activation\n",
    "logits = tf.layers.dense(inputs=encoded, units=784, kernel_initializer=tf.initializers.truncated_normal)\n",
    "# Sigmoid output from logits\n",
    "decoded = tf.nn.sigmoid(logits)\n",
    "\n",
    "# Sigmoid cross-entropy loss\n",
    "loss = tf.nn.sigmoid_cross_entropy_with_logits(logits=decoded, labels=targets_)\n",
    "# Mean of the loss\n",
    "cost = tf.reduce_mean(loss)\n",
    "\n",
    "# Adam optimizer\n",
    "opt = tf.train.AdamOptimizer().minimize(cost)"
   ]
  },
  {
   "cell_type": "markdown",
   "metadata": {},
   "source": [
    "## Training"
   ]
  },
  {
   "cell_type": "code",
   "execution_count": 29,
   "metadata": {},
   "outputs": [],
   "source": [
    "# Create the session\n",
    "sess = tf.Session()"
   ]
  },
  {
   "cell_type": "markdown",
   "metadata": {},
   "source": [
    "Here I'll write a bit of code to train the network. I'm not too interested in validation here, so I'll just monitor the training loss. \n",
    "\n",
    "Calling `mnist.train.next_batch(batch_size)` will return a tuple of `(images, labels)`. We're not concerned with the labels here, we just need the images. Otherwise this is pretty straightfoward training with TensorFlow. We initialize the variables with `sess.run(tf.global_variables_initializer())`. Then, run the optimizer and get the loss with `batch_cost, _ = sess.run([cost, opt], feed_dict=feed)`."
   ]
  },
  {
   "cell_type": "code",
   "execution_count": 32,
   "metadata": {},
   "outputs": [
    {
     "name": "stdout",
     "output_type": "stream",
     "text": [
      "Epoch: 0... Training loss: 225.5537\n",
      "Epoch: 1... Training loss: 209.1737\n",
      "Epoch: 2... Training loss: 208.4060\n",
      "Epoch: 3... Training loss: 208.0263\n",
      "Epoch: 4... Training loss: 207.6244\n",
      "Epoch: 5... Training loss: 207.1807\n",
      "Epoch: 6... Training loss: 206.8120\n",
      "Epoch: 7... Training loss: 206.5720\n",
      "Epoch: 8... Training loss: 206.3329\n",
      "Epoch: 9... Training loss: 205.9265\n",
      "Epoch: 10... Training loss: 205.5749\n",
      "Epoch: 11... Training loss: 205.3931\n",
      "Epoch: 12... Training loss: 205.2374\n",
      "Epoch: 13... Training loss: 205.1074\n",
      "Epoch: 14... Training loss: 204.9878\n",
      "Epoch: 15... Training loss: 204.8714\n",
      "Epoch: 16... Training loss: 204.7924\n",
      "Epoch: 17... Training loss: 204.7236\n",
      "Epoch: 18... Training loss: 204.6672\n",
      "Epoch: 19... Training loss: 204.6176\n",
      "Epoch: 20... Training loss: 204.5813\n",
      "Epoch: 21... Training loss: 204.5530\n",
      "Epoch: 22... Training loss: 204.5278\n",
      "Epoch: 23... Training loss: 204.5020\n",
      "Epoch: 24... Training loss: 204.4635\n",
      "Epoch: 25... Training loss: 204.4237\n",
      "Epoch: 26... Training loss: 204.3853\n",
      "Epoch: 27... Training loss: 204.3647\n",
      "Epoch: 28... Training loss: 204.3128\n",
      "Epoch: 29... Training loss: 204.2717\n",
      "Epoch: 30... Training loss: 204.2526\n",
      "Epoch: 31... Training loss: 204.2410\n",
      "Epoch: 32... Training loss: 204.2318\n",
      "Epoch: 33... Training loss: 204.2202\n",
      "Epoch: 34... Training loss: 204.2090\n",
      "Epoch: 35... Training loss: 204.1739\n",
      "Epoch: 36... Training loss: 204.1575\n",
      "Epoch: 37... Training loss: 204.1438\n",
      "Epoch: 38... Training loss: 204.1342\n",
      "Epoch: 39... Training loss: 204.1223\n",
      "Epoch: 40... Training loss: 204.1079\n",
      "Epoch: 41... Training loss: 204.0951\n",
      "Epoch: 42... Training loss: 204.0883\n",
      "Epoch: 43... Training loss: 204.0725\n",
      "Epoch: 44... Training loss: 204.0567\n",
      "Epoch: 45... Training loss: 204.0480\n",
      "Epoch: 46... Training loss: 204.0422\n",
      "Epoch: 47... Training loss: 204.0354\n",
      "Epoch: 48... Training loss: 204.0313\n",
      "Epoch: 49... Training loss: 204.0328\n",
      "Epoch: 50... Training loss: 204.0270\n",
      "Epoch: 51... Training loss: 204.0224\n",
      "Epoch: 52... Training loss: 204.0219\n",
      "Epoch: 53... Training loss: 204.0195\n",
      "Epoch: 54... Training loss: 204.0166\n",
      "Epoch: 55... Training loss: 204.0141\n",
      "Epoch: 56... Training loss: 204.0155\n",
      "Epoch: 57... Training loss: 204.0114\n",
      "Epoch: 58... Training loss: 204.0039\n",
      "Epoch: 59... Training loss: 203.9916\n",
      "Epoch: 60... Training loss: 203.9832\n",
      "Epoch: 61... Training loss: 203.9749\n",
      "Epoch: 62... Training loss: 203.9725\n",
      "Epoch: 63... Training loss: 203.9718\n",
      "Epoch: 64... Training loss: 203.9689\n",
      "Epoch: 65... Training loss: 203.9660\n",
      "Epoch: 66... Training loss: 203.9654\n",
      "Epoch: 67... Training loss: 203.9660\n",
      "Epoch: 68... Training loss: 203.9594\n",
      "Epoch: 69... Training loss: 203.9656\n",
      "Epoch: 70... Training loss: 203.9605\n",
      "Epoch: 71... Training loss: 203.9563\n",
      "Epoch: 72... Training loss: 203.9499\n",
      "Epoch: 73... Training loss: 203.9514\n",
      "Epoch: 74... Training loss: 203.9465\n",
      "Epoch: 75... Training loss: 203.9438\n",
      "Epoch: 76... Training loss: 203.9400\n",
      "Epoch: 77... Training loss: 203.9405\n",
      "Epoch: 78... Training loss: 203.9390\n",
      "Epoch: 79... Training loss: 203.9398\n",
      "Epoch: 80... Training loss: 203.9353\n",
      "Epoch: 81... Training loss: 203.9352\n",
      "Epoch: 82... Training loss: 203.9366\n",
      "Epoch: 83... Training loss: 203.9346\n",
      "Epoch: 84... Training loss: 203.9344\n",
      "Epoch: 85... Training loss: 203.9345\n",
      "Epoch: 86... Training loss: 203.9318\n",
      "Epoch: 87... Training loss: 203.9300\n",
      "Epoch: 88... Training loss: 203.9308\n",
      "Epoch: 89... Training loss: 203.9292\n",
      "Epoch: 90... Training loss: 203.9306\n",
      "Epoch: 91... Training loss: 203.9286\n",
      "Epoch: 92... Training loss: 203.9292\n",
      "Epoch: 93... Training loss: 203.9271\n",
      "Epoch: 94... Training loss: 203.9283\n",
      "Epoch: 95... Training loss: 203.9264\n",
      "Epoch: 96... Training loss: 203.9264\n",
      "Epoch: 97... Training loss: 203.9262\n",
      "Epoch: 98... Training loss: 203.9282\n",
      "Epoch: 99... Training loss: 203.9223\n",
      "Epoch: 100... Training loss: 203.9265\n",
      "Epoch: 101... Training loss: 203.9252\n",
      "Epoch: 102... Training loss: 203.9222\n",
      "Epoch: 103... Training loss: 203.9237\n",
      "Epoch: 104... Training loss: 203.9235\n",
      "Epoch: 105... Training loss: 203.9224\n",
      "Epoch: 106... Training loss: 203.9231\n",
      "Epoch: 107... Training loss: 203.9237\n",
      "Epoch: 108... Training loss: 203.9214\n",
      "Epoch: 109... Training loss: 203.9212\n",
      "Epoch: 110... Training loss: 203.9214\n",
      "Epoch: 111... Training loss: 203.9159\n",
      "Epoch: 112... Training loss: 203.9017\n",
      "Epoch: 113... Training loss: 203.8982\n",
      "Epoch: 114... Training loss: 203.8955\n",
      "Epoch: 115... Training loss: 203.8932\n",
      "Epoch: 116... Training loss: 203.8943\n",
      "Epoch: 117... Training loss: 203.8940\n",
      "Epoch: 118... Training loss: 203.8886\n",
      "Epoch: 119... Training loss: 203.8944\n",
      "Epoch: 120... Training loss: 203.8903\n",
      "Epoch: 121... Training loss: 203.8884\n",
      "Epoch: 122... Training loss: 203.8905\n",
      "Epoch: 123... Training loss: 203.8901\n",
      "Epoch: 124... Training loss: 203.8907\n",
      "Epoch: 125... Training loss: 203.8904\n",
      "Epoch: 126... Training loss: 203.8879\n",
      "Epoch: 127... Training loss: 203.8876\n",
      "Epoch: 128... Training loss: 203.8891\n",
      "Epoch: 129... Training loss: 203.8886\n",
      "Epoch: 130... Training loss: 203.8862\n",
      "Epoch: 131... Training loss: 203.8893\n",
      "Epoch: 132... Training loss: 203.8853\n",
      "Epoch: 133... Training loss: 203.8871\n",
      "Epoch: 134... Training loss: 203.8887\n",
      "Epoch: 135... Training loss: 203.8856\n",
      "Epoch: 136... Training loss: 203.8875\n",
      "Epoch: 137... Training loss: 203.8870\n",
      "Epoch: 138... Training loss: 203.8849\n",
      "Epoch: 139... Training loss: 203.8873\n",
      "Epoch: 140... Training loss: 203.8856\n",
      "Epoch: 141... Training loss: 203.8870\n",
      "Epoch: 142... Training loss: 203.8849\n",
      "Epoch: 143... Training loss: 203.8865\n",
      "Epoch: 144... Training loss: 203.8855\n",
      "Epoch: 145... Training loss: 203.8838\n",
      "Epoch: 146... Training loss: 203.8822\n",
      "Epoch: 147... Training loss: 203.8850\n",
      "Epoch: 148... Training loss: 203.8871\n",
      "Epoch: 149... Training loss: 203.8834\n",
      "Epoch: 150... Training loss: 203.8852\n",
      "Epoch: 151... Training loss: 203.8826\n",
      "Epoch: 152... Training loss: 203.8850\n",
      "Epoch: 153... Training loss: 203.8845\n",
      "Epoch: 154... Training loss: 203.8829\n",
      "Epoch: 155... Training loss: 203.8841\n",
      "Epoch: 156... Training loss: 203.8813\n",
      "Epoch: 157... Training loss: 203.8842\n",
      "Epoch: 158... Training loss: 203.8838\n",
      "Epoch: 159... Training loss: 203.8821\n",
      "Epoch: 160... Training loss: 203.8837\n",
      "Epoch: 161... Training loss: 203.8840\n",
      "Epoch: 162... Training loss: 203.8838\n",
      "Epoch: 163... Training loss: 203.8809\n",
      "Epoch: 164... Training loss: 203.8843\n",
      "Epoch: 165... Training loss: 203.8802\n",
      "Epoch: 166... Training loss: 203.8828\n",
      "Epoch: 167... Training loss: 203.8838\n",
      "Epoch: 168... Training loss: 203.8831\n",
      "Epoch: 169... Training loss: 203.8799\n",
      "Epoch: 170... Training loss: 203.8823\n",
      "Epoch: 171... Training loss: 203.8822\n",
      "Epoch: 172... Training loss: 203.8818\n",
      "Epoch: 173... Training loss: 203.8822\n",
      "Epoch: 174... Training loss: 203.8817\n",
      "Epoch: 175... Training loss: 203.8840\n",
      "Epoch: 176... Training loss: 203.8811\n",
      "Epoch: 177... Training loss: 203.8784\n",
      "Epoch: 178... Training loss: 203.8803\n",
      "Epoch: 179... Training loss: 203.8860\n",
      "Epoch: 180... Training loss: 203.8777\n",
      "Epoch: 181... Training loss: 203.8812\n",
      "Epoch: 182... Training loss: 203.8835\n",
      "Epoch: 183... Training loss: 203.8785\n",
      "Epoch: 184... Training loss: 203.8800\n",
      "Epoch: 185... Training loss: 203.8806\n",
      "Epoch: 186... Training loss: 203.8796\n",
      "Epoch: 187... Training loss: 203.8590\n",
      "Epoch: 188... Training loss: 203.8510\n",
      "Epoch: 189... Training loss: 203.8500\n",
      "Epoch: 190... Training loss: 203.8482\n",
      "Epoch: 191... Training loss: 203.8492\n",
      "Epoch: 192... Training loss: 203.8448\n",
      "Epoch: 193... Training loss: 203.8475\n",
      "Epoch: 194... Training loss: 203.8477\n",
      "Epoch: 195... Training loss: 203.8452\n",
      "Epoch: 196... Training loss: 203.8470\n",
      "Epoch: 197... Training loss: 203.8457\n",
      "Epoch: 198... Training loss: 203.8475\n",
      "Epoch: 199... Training loss: 203.8440\n"
     ]
    }
   ],
   "source": [
    "epochs = 200\n",
    "batch_size = 200\n",
    "sess.run(tf.global_variables_initializer())\n",
    "from keras.utils import to_categorical\n",
    "for e in range(epochs):\n",
    "    total = 0\n",
    "    for ii in range(mnist.train.num_examples//batch_size):\n",
    "        batch = mnist.train.next_batch(batch_size)\n",
    "        feed = {inputs_: batch[0], targets_: batch[0]}\n",
    "        batch_cost, _ = sess.run([cost, opt], feed_dict=feed)\n",
    "        total += batch_cost\n",
    "    print(\"Epoch: {}...\".format(e),\n",
    "          \"Training loss: {:.4f}\".format(total))"
   ]
  },
  {
   "cell_type": "markdown",
   "metadata": {},
   "source": [
    "## Checking out the results\n",
    "\n",
    "Below I've plotted some of the test images along with their reconstructions. For the most part these look pretty good except for some blurriness in some parts."
   ]
  },
  {
   "cell_type": "code",
   "execution_count": 33,
   "metadata": {},
   "outputs": [
    {
     "data": {
      "image/png": "[encoded data removed]",
      "text/plain": [
       "<Figure size 1440x288 with 20 Axes>"
      ]
     },
     "metadata": {
      "needs_background": "light"
     },
     "output_type": "display_data"
    }
   ],
   "source": [
    "fig, axes = plt.subplots(nrows=2, ncols=10, sharex=True, sharey=True, figsize=(20,4))\n",
    "in_imgs = mnist.test.images[:10]\n",
    "reconstructed, compressed = sess.run([decoded, encoded], feed_dict={inputs_: in_imgs})\n",
    "\n",
    "for images, row in zip([in_imgs, reconstructed], axes):\n",
    "    for img, ax in zip(images, row):\n",
    "        ax.imshow(img.reshape((28, 28)), cmap='Greys_r')\n",
    "        ax.get_xaxis().set_visible(False)\n",
    "        ax.get_yaxis().set_visible(False)\n",
    "\n",
    "fig.tight_layout(pad=0.1)"
   ]
  },
  {
   "cell_type": "code",
   "execution_count": 9,
   "metadata": {
    "collapsed": true
   },
   "outputs": [],
   "source": [
    "sess.close()"
   ]
  },
  {
   "cell_type": "markdown",
   "metadata": {
    "collapsed": true
   },
   "source": [
    "## Up Next\n",
    "\n",
    "We're dealing with images here, so we can (usually) get better performance using convolution layers. So, next we'll build a better autoencoder with convolutional layers.\n",
    "\n",
    "In practice, autoencoders aren't actually better at compression compared to typical methods like JPEGs and MP3s. But, they are being used for noise reduction, which you'll also build."
   ]
  }
 ],
 "metadata": {
  "kernelspec": {
   "display_name": "Python 3",
   "language": "python",
   "name": "python3"
  },
  "language_info": {
   "codemirror_mode": {
    "name": "ipython",
    "version": 3
   },
   "file_extension": ".py",
   "mimetype": "text/x-python",
   "name": "python",
   "nbconvert_exporter": "python",
   "pygments_lexer": "ipython3",
   "version": "3.7.3"
  }
 },
 "nbformat": 4,
 "nbformat_minor": 2
}
